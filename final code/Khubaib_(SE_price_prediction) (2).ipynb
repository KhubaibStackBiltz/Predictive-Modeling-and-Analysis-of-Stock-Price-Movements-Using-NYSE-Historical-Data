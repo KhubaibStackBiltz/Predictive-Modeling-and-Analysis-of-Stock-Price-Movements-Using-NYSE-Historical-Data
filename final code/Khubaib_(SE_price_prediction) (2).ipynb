{
  "nbformat": 4,
  "nbformat_minor": 0,
  "metadata": {
    "colab": {
      "provenance": [],
      "machine_shape": "hm"
    },
    "kernelspec": {
      "name": "python3",
      "display_name": "Python 3"
    },
    "language_info": {
      "name": "python"
    }
  },
  "cells": [
    {
      "cell_type": "code",
      "source": [
        "from google.colab import drive\n",
        "drive.mount('/content/drive')"
      ],
      "metadata": {
        "id": "1zxSuW9QaoP2",
        "colab": {
          "base_uri": "https://localhost:8080/"
        },
        "outputId": "e6a148a7-9fab-4b3a-9766-3c9035a1e162"
      },
      "execution_count": null,
      "outputs": [
        {
          "output_type": "stream",
          "name": "stdout",
          "text": [
            "Mounted at /content/drive\n"
          ]
        }
      ]
    },
    {
      "cell_type": "markdown",
      "source": [
        "## Import Packages"
      ],
      "metadata": {
        "id": "LRV2Gzrva1Dw"
      }
    },
    {
      "cell_type": "code",
      "source": [
        "import os\n",
        "import numpy as np\n",
        "import pandas as pd\n",
        "import seaborn as sns\n",
        "import tensorflow as tf\n",
        "import matplotlib.pyplot as plt\n",
        "from sklearn.preprocessing import MinMaxScaler, LabelEncoder\n",
        "from tensorflow.keras.models import Sequential\n",
        "from tensorflow.keras.layers import SimpleRNN, Dense, Dropout, LSTM\n",
        "from tensorflow.keras.callbacks import EarlyStopping\n",
        "from sklearn.model_selection import ParameterGrid\n",
        "from tensorflow.keras.models import load_model\n",
        "from tensorflow.keras.optimizers import Adam\n",
        "from sklearn.metrics import mean_absolute_error, mean_squared_error, mean_squared_error, r2_score\n",
        "from sklearn.preprocessing import LabelEncoder\n",
        "from xgboost import XGBRegressor\n",
        "from sklearn.model_selection import GridSearchCV\n",
        "from sklearn.model_selection import train_test_split"
      ],
      "metadata": {
        "id": "0lib6wbdcHVk"
      },
      "execution_count": null,
      "outputs": []
    },
    {
      "cell_type": "markdown",
      "source": [
        "## Load datasets"
      ],
      "metadata": {
        "id": "6hXSopk5cJu1"
      }
    },
    {
      "cell_type": "code",
      "execution_count": null,
      "metadata": {
        "id": "o_C66t5JaGq1"
      },
      "outputs": [],
      "source": [
        "# Load datasets\n",
        "prices = pd.read_csv('/content/drive/MyDrive/NYSE_Dataset/prices.csv')\n",
        "prices_split_adjusted = pd.read_csv('/content/drive/MyDrive/NYSE_Dataset/prices-split-adjusted.csv')\n",
        "securities = pd.read_csv('/content/drive/MyDrive/NYSE_Dataset/securities.csv')\n",
        "fundamentals = pd.read_csv('/content/drive/MyDrive/NYSE_Dataset/fundamentals.csv')"
      ]
    }
  ]
}
